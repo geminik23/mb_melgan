{
 "cells": [
  {
   "cell_type": "code",
   "execution_count": 1,
   "metadata": {},
   "outputs": [],
   "source": [
    "import torch\n",
    "import torch.nn as nn\n",
    "import matplotlib.pyplot as plt\n",
    "from torch.utils.data import DataLoader\n",
    "import seaborn as sns\n",
    "from utils import weights_init_xavier_uniform\n",
    "from dataset import load_ljspeech_dataset\n",
    "from mbmelgan_model import Discriminator, MultiBandGenerator, FullBandGenerator\n",
    "from trainers import MBMelGANTrainer, FBMelGANTrainer"
   ]
  },
  {
   "cell_type": "code",
   "execution_count": 2,
   "metadata": {},
   "outputs": [],
   "source": [
    "from config import Config\n",
    "config = Config()"
   ]
  },
  {
   "cell_type": "code",
   "execution_count": 3,
   "metadata": {},
   "outputs": [],
   "source": [
    "trainset, _ = load_ljspeech_dataset(config)\n",
    "# train_loader = DataLoader(trainset, batch_size=config.batch_size, pin_memory=False, shuffle=True)\n",
    "train_loader = DataLoader(trainset, batch_size=config.batch_size_fb, pin_memory=True, shuffle=True, num_workers=config.num_workers)"
   ]
  },
  {
   "cell_type": "code",
   "execution_count": 4,
   "metadata": {},
   "outputs": [
    {
     "name": "stdout",
     "output_type": "stream",
     "text": [
      "cuda\n"
     ]
    }
   ],
   "source": [
    "device = torch.device('cuda' if torch.cuda.is_available() else 'cpu')\n",
    "print(device)"
   ]
  },
  {
   "cell_type": "code",
   "execution_count": 5,
   "metadata": {},
   "outputs": [],
   "source": [
    "G = FullBandGenerator(config.n_mels)\n",
    "D = Discriminator()\n",
    "weights_init_xavier_uniform(G)\n",
    "weights_init_xavier_uniform(D)"
   ]
  },
  {
   "cell_type": "code",
   "execution_count": 6,
   "metadata": {},
   "outputs": [],
   "source": [
    "g_optimizer_builder = lambda model:torch.optim.Adam(G.parameters(), lr=config.g_lr, betas=config.adam_betas)\n",
    "d_optimizer_builder = lambda model:torch.optim.Adam(D.parameters(), lr=config.d_lr, betas=config.adam_betas)\n",
    "# 'The learning rate of all models is halved every 100K steps until 1e − 6' from paper.\n",
    "\n",
    "g_scheduler_builder = lambda opt: torch.optim.lr_scheduler.LambdaLR(optimizer=opt, lr_lambda=lambda e: max(1e-6/config.g_lr, (0.5)**(e//100000)))\n",
    "d_scheduler_builder = lambda opt: torch.optim.lr_scheduler.LambdaLR(optimizer=opt, lr_lambda=lambda e: max(1e-6/config.d_lr, (0.5)**(e//100000)))"
   ]
  },
  {
   "cell_type": "code",
   "execution_count": 7,
   "metadata": {},
   "outputs": [],
   "source": [
    "trainer = FBMelGANTrainer(G, D,\n",
    "                          g_optimizer_builder,\n",
    "                          d_optimizer_builder,\n",
    "                          g_scheduler_builder,\n",
    "                          d_scheduler_builder,\n",
    "                          lambda_adv=config.lambda_adv,\n",
    "                          checkpoint_dir=config.checkpoint_dir)\n",
    "\n",
    "trainer.set_tqdm_for_notebook(True)"
   ]
  },
  {
   "cell_type": "code",
   "execution_count": 8,
   "metadata": {},
   "outputs": [],
   "source": [
    "reset = True\n",
    "if config.train_after is not None:\n",
    "    trainer.load_data( config.train_after)\n",
    "    reset = False"
   ]
  },
  {
   "cell_type": "code",
   "execution_count": null,
   "metadata": {},
   "outputs": [],
   "source": [
    "result = trainer.train(train_loader, train_only_g_till=config.train_generator_until, epochs=config.epochs, device=device, reset=reset, cp_filename=config.checkpoint_file_template_fb, cp_interval=config.checkpoint_interval)"
   ]
  },
  {
   "cell_type": "code",
   "execution_count": null,
   "metadata": {},
   "outputs": [],
   "source": [
    "sns.lineplot(x='epoch', y='g loss', data=result, label='Generator Loss')\n",
    "sns.lineplot(x='epoch', y='d loss', data=result, label='Discriminator Loss')\n",
    "plt.show()"
   ]
  }
 ],
 "metadata": {
  "kernelspec": {
   "display_name": "Python 3 (ipykernel)",
   "language": "python",
   "name": "python3"
  },
  "language_info": {
   "codemirror_mode": {
    "name": "ipython",
    "version": 3
   },
   "file_extension": ".py",
   "mimetype": "text/x-python",
   "name": "python",
   "nbconvert_exporter": "python",
   "pygments_lexer": "ipython3",
   "version": "3.9.7"
  },
  "vscode": {
   "interpreter": {
    "hash": "11b29b0310db0059823682c46597dd42af12889b09ee40e1bff7f56965d14a07"
   }
  }
 },
 "nbformat": 4,
 "nbformat_minor": 2
}
